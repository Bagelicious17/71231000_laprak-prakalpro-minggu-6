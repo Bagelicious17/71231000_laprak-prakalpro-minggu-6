{
 "cells": [
  {
   "cell_type": "code",
   "execution_count": 7,
   "id": "449e8384",
   "metadata": {},
   "outputs": [
    {
     "name": "stdout",
     "output_type": "stream",
     "text": [
      "masukkan angka ganjil: 21\n",
      "angka prima terdekat dari 21 adalah 19\n"
     ]
    }
   ],
   "source": [
    "nomer=int(input(\"masukkan angka ganjil: \"))\n",
    "\n",
    "def golek_prima (nomer):\n",
    "    if nomer <2:\n",
    "        return False\n",
    "    for t in range (2, int(nomer**0.5)+1):\n",
    "        if nomer%t==0:\n",
    "            return False\n",
    "    return True\n",
    "\n",
    "hasil=next((t for t in range(nomer-1,1,-1) if golek_prima(t)),nomer)\n",
    "print(f\"angka prima terdekat dari {nomer} adalah {hasil}\")"
   ]
  },
  {
   "cell_type": "code",
   "execution_count": 3,
   "id": "aaa7e93b",
   "metadata": {},
   "outputs": [
    {
     "name": "stdout",
     "output_type": "stream",
     "text": [
      "masukkan angka: 8\n",
      "40320 8 7 6 5 4 3 2 1 \n",
      "5040 7 6 5 4 3 2 1 \n",
      "720 6 5 4 3 2 1 \n",
      "120 5 4 3 2 1 \n",
      "24 4 3 2 1 \n",
      "6 3 2 1 \n",
      "2 2 1 \n",
      "1 1 \n"
     ]
    }
   ],
   "source": [
    "p= int(input(\"masukkan angka: \"))\n",
    "for i in range (p, 0, -1):\n",
    "    f=1\n",
    "    for t in range (i, 0, -1):\n",
    "        f*=t\n",
    "    print(f, end=\" \")\n",
    "    for x in range (i, 0, -1):\n",
    "        print(x, end=\" \")\n",
    "    print()"
   ]
  },
  {
   "cell_type": "code",
   "execution_count": 4,
   "id": "4c8a2a3e",
   "metadata": {},
   "outputs": [
    {
     "name": "stdout",
     "output_type": "stream",
     "text": [
      "masukkan tinggi: 5\n",
      "masukkan lebar: 4\n",
      "   1   2   3   4\n",
      "   5   6   7   8\n",
      "   9  10  11  12\n",
      "  13  14  15  16\n",
      "  17  18  19  20\n"
     ]
    }
   ],
   "source": [
    "tinggi=int(input(\"masukkan tinggi: \"))\n",
    "lebar=int(input(\"masukkan lebar: \"))\n",
    "p = 1\n",
    "for x in range(tinggi * lebar):\n",
    "    if x % lebar == 0 and x != 0:\n",
    "        print()\n",
    "    print(f\"{p: 4d}\", end=\"\")\n",
    "    p += 1\n",
    "print()"
   ]
  },
  {
   "cell_type": "code",
   "execution_count": null,
   "id": "ddcc39b4",
   "metadata": {},
   "outputs": [],
   "source": []
  }
 ],
 "metadata": {
  "kernelspec": {
   "display_name": "Python 3 (ipykernel)",
   "language": "python",
   "name": "python3"
  },
  "language_info": {
   "codemirror_mode": {
    "name": "ipython",
    "version": 3
   },
   "file_extension": ".py",
   "mimetype": "text/x-python",
   "name": "python",
   "nbconvert_exporter": "python",
   "pygments_lexer": "ipython3",
   "version": "3.11.5"
  }
 },
 "nbformat": 4,
 "nbformat_minor": 5
}
